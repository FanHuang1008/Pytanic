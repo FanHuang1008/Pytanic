{
 "cells": [
  {
   "cell_type": "code",
   "execution_count": 123,
   "metadata": {},
   "outputs": [],
   "source": [
    "import pandas as pd\n",
    "import numpy as np\n",
    "import matplotlib.pyplot as plt\n",
    "import seaborn as sns\n",
    "%matplotlib inline\n",
    "sns.set(font_scale=1.56)\n",
    "from sklearn import preprocessing\n",
    "from sklearn.preprocessing import LabelEncoder\n",
    "import re\n",
    "import warnings\n",
    "warnings.filterwarnings('ignore')"
   ]
  },
  {
   "cell_type": "code",
   "execution_count": 138,
   "metadata": {},
   "outputs": [],
   "source": [
    "path = \"D:/data/Titanic data/\"\n",
    "\n",
    "df_train = pd.read_csv(path+\"train.csv\")\n",
    "df_test = pd.read_csv(path+\"test.csv\")\n",
    "df_all = df_train.append(df_test)"
   ]
  },
  {
   "cell_type": "code",
   "execution_count": 125,
   "metadata": {
    "scrolled": true
   },
   "outputs": [
    {
     "name": "stdout",
     "output_type": "stream",
     "text": [
      "<class 'pandas.core.frame.DataFrame'>\n",
      "RangeIndex: 891 entries, 0 to 890\n",
      "Data columns (total 12 columns):\n",
      " #   Column       Non-Null Count  Dtype  \n",
      "---  ------       --------------  -----  \n",
      " 0   PassengerId  891 non-null    int64  \n",
      " 1   Survived     891 non-null    int64  \n",
      " 2   Pclass       891 non-null    int64  \n",
      " 3   Name         891 non-null    object \n",
      " 4   Sex          891 non-null    object \n",
      " 5   Age          714 non-null    float64\n",
      " 6   SibSp        891 non-null    int64  \n",
      " 7   Parch        891 non-null    int64  \n",
      " 8   Ticket       891 non-null    object \n",
      " 9   Fare         891 non-null    float64\n",
      " 10  Cabin        204 non-null    object \n",
      " 11  Embarked     889 non-null    object \n",
      "dtypes: float64(2), int64(5), object(5)\n",
      "memory usage: 83.7+ KB\n"
     ]
    }
   ],
   "source": [
    "df_train.info()"
   ]
  },
  {
   "cell_type": "code",
   "execution_count": 126,
   "metadata": {
    "scrolled": false
   },
   "outputs": [
    {
     "data": {
      "text/html": [
       "<div>\n",
       "<style scoped>\n",
       "    .dataframe tbody tr th:only-of-type {\n",
       "        vertical-align: middle;\n",
       "    }\n",
       "\n",
       "    .dataframe tbody tr th {\n",
       "        vertical-align: top;\n",
       "    }\n",
       "\n",
       "    .dataframe thead th {\n",
       "        text-align: right;\n",
       "    }\n",
       "</style>\n",
       "<table border=\"1\" class=\"dataframe\">\n",
       "  <thead>\n",
       "    <tr style=\"text-align: right;\">\n",
       "      <th></th>\n",
       "      <th>Total</th>\n",
       "      <th>%</th>\n",
       "    </tr>\n",
       "  </thead>\n",
       "  <tbody>\n",
       "    <tr>\n",
       "      <th>Cabin</th>\n",
       "      <td>687</td>\n",
       "      <td>77.1</td>\n",
       "    </tr>\n",
       "    <tr>\n",
       "      <th>Age</th>\n",
       "      <td>177</td>\n",
       "      <td>19.9</td>\n",
       "    </tr>\n",
       "    <tr>\n",
       "      <th>Embarked</th>\n",
       "      <td>2</td>\n",
       "      <td>0.2</td>\n",
       "    </tr>\n",
       "  </tbody>\n",
       "</table>\n",
       "</div>"
      ],
      "text/plain": [
       "          Total     %\n",
       "Cabin       687  77.1\n",
       "Age         177  19.9\n",
       "Embarked      2   0.2"
      ]
     },
     "execution_count": 126,
     "metadata": {},
     "output_type": "execute_result"
    }
   ],
   "source": [
    "missing_number = df_train.isnull().sum().sort_values(ascending=False)\n",
    "missing_percentage = round(df_train.isnull().sum() / df_train.isnull().count() *100, 1).sort_values(ascending=False)\n",
    "missing_data = pd.concat([missing_number, missing_percentage], axis=1, keys=['Total', '%'])\n",
    "missing_data[missing_data['%'] > 0]"
   ]
  },
  {
   "cell_type": "markdown",
   "metadata": {},
   "source": [
    "# Data Exploration"
   ]
  },
  {
   "cell_type": "markdown",
   "metadata": {},
   "source": [
    "### Sex and Pclass"
   ]
  },
  {
   "cell_type": "code",
   "execution_count": 127,
   "metadata": {},
   "outputs": [
    {
     "data": {
      "text/plain": [
       "<seaborn.axisgrid.FacetGrid at 0x20f76772af0>"
      ]
     },
     "execution_count": 127,
     "metadata": {},
     "output_type": "execute_result"
    },
    {
     "data": {
      "image/png": "[encoded data removed]",
      "text/plain": [
       "<Figure size 431.276x360 with 1 Axes>"
      ]
     },
     "metadata": {},
     "output_type": "display_data"
    }
   ],
   "source": [
    "sns.catplot(x='Sex', y='Survived', hue='Pclass', kind='bar', data=df_train)"
   ]
  },
  {
   "cell_type": "code",
   "execution_count": 128,
   "metadata": {},
   "outputs": [
    {
     "data": {
      "text/html": [
       "<div>\n",
       "<style scoped>\n",
       "    .dataframe tbody tr th:only-of-type {\n",
       "        vertical-align: middle;\n",
       "    }\n",
       "\n",
       "    .dataframe tbody tr th {\n",
       "        vertical-align: top;\n",
       "    }\n",
       "\n",
       "    .dataframe thead th {\n",
       "        text-align: right;\n",
       "    }\n",
       "</style>\n",
       "<table border=\"1\" class=\"dataframe\">\n",
       "  <thead>\n",
       "    <tr style=\"text-align: right;\">\n",
       "      <th></th>\n",
       "      <th>Sex</th>\n",
       "      <th>Survived</th>\n",
       "    </tr>\n",
       "  </thead>\n",
       "  <tbody>\n",
       "    <tr>\n",
       "      <th>0</th>\n",
       "      <td>female</td>\n",
       "      <td>0.742</td>\n",
       "    </tr>\n",
       "    <tr>\n",
       "      <th>1</th>\n",
       "      <td>male</td>\n",
       "      <td>0.189</td>\n",
       "    </tr>\n",
       "  </tbody>\n",
       "</table>\n",
       "</div>"
      ],
      "text/plain": [
       "      Sex  Survived\n",
       "0  female     0.742\n",
       "1    male     0.189"
      ]
     },
     "execution_count": 128,
     "metadata": {},
     "output_type": "execute_result"
    },
    {
     "data": {
      "image/png": "[encoded data removed]",
      "text/plain": [
       "<Figure size 432x288 with 1 Axes>"
      ]
     },
     "metadata": {},
     "output_type": "display_data"
    }
   ],
   "source": [
    "# Sex\n",
    "sns.countplot(x='Sex', hue='Survived', data=df_train)\n",
    "df_train[['Sex', 'Survived']].groupby(['Sex'], as_index=False).mean().round(3)"
   ]
  },
  {
   "cell_type": "code",
   "execution_count": 129,
   "metadata": {},
   "outputs": [
    {
     "data": {
      "text/html": [
       "<div>\n",
       "<style scoped>\n",
       "    .dataframe tbody tr th:only-of-type {\n",
       "        vertical-align: middle;\n",
       "    }\n",
       "\n",
       "    .dataframe tbody tr th {\n",
       "        vertical-align: top;\n",
       "    }\n",
       "\n",
       "    .dataframe thead th {\n",
       "        text-align: right;\n",
       "    }\n",
       "</style>\n",
       "<table border=\"1\" class=\"dataframe\">\n",
       "  <thead>\n",
       "    <tr style=\"text-align: right;\">\n",
       "      <th></th>\n",
       "      <th>Pclass</th>\n",
       "      <th>Survived</th>\n",
       "    </tr>\n",
       "  </thead>\n",
       "  <tbody>\n",
       "    <tr>\n",
       "      <th>0</th>\n",
       "      <td>1</td>\n",
       "      <td>0.630</td>\n",
       "    </tr>\n",
       "    <tr>\n",
       "      <th>1</th>\n",
       "      <td>2</td>\n",
       "      <td>0.473</td>\n",
       "    </tr>\n",
       "    <tr>\n",
       "      <th>2</th>\n",
       "      <td>3</td>\n",
       "      <td>0.242</td>\n",
       "    </tr>\n",
       "  </tbody>\n",
       "</table>\n",
       "</div>"
      ],
      "text/plain": [
       "   Pclass  Survived\n",
       "0       1     0.630\n",
       "1       2     0.473\n",
       "2       3     0.242"
      ]
     },
     "execution_count": 129,
     "metadata": {},
     "output_type": "execute_result"
    },
    {
     "data": {
      "image/png": "[encoded data removed]",
      "text/plain": [
       "<Figure size 432x288 with 1 Axes>"
      ]
     },
     "metadata": {},
     "output_type": "display_data"
    }
   ],
   "source": [
    "# Pclass\n",
    "sns.barplot(x='Pclass', y='Survived', data=df_train)\n",
    "df_train[['Pclass', 'Survived']].groupby(['Pclass'], as_index=False).mean().round(3)"
   ]
  },
  {
   "cell_type": "markdown",
   "metadata": {},
   "source": [
    "### Age and Sex"
   ]
  },
  {
   "cell_type": "code",
   "execution_count": 130,
   "metadata": {},
   "outputs": [
    {
     "data": {
      "text/plain": [
       "Text(0.5, 1.0, 'Female')"
      ]
     },
     "execution_count": 130,
     "metadata": {},
     "output_type": "execute_result"
    },
    {
     "data": {
      "image/png": "[encoded data removed]",
      "text/plain": [
       "<Figure size 1080x432 with 2 Axes>"
      ]
     },
     "metadata": {},
     "output_type": "display_data"
    }
   ],
   "source": [
    "male_survived = df_train[(df_train['Sex']=='male') & (df_train['Survived']==1)]\n",
    "male_deceased = df_train[(df_train['Sex']=='male') & (df_train['Survived']==0)]\n",
    "female_survived = df_train[(df_train['Sex']=='female') & (df_train['Survived']==1)]\n",
    "female_deceased = df_train[(df_train['Sex']=='female') & (df_train['Survived']==0)]\n",
    "\n",
    "fig, axes = plt.subplots(nrows=1, ncols=2, figsize=(15, 6))\n",
    "ax = sns.histplot(male_survived['Age'].dropna(), bins=20, label = 'survived', ax=axes[0], kde=False, color='#2081f9')\n",
    "ax = sns.histplot(male_deceased['Age'].dropna(), bins=40, label = 'deceased', ax=axes[0], kde=False, color='#f99820')\n",
    "ax.legend()\n",
    "ax.set_title('Male')\n",
    "\n",
    "ax = sns.histplot(female_survived['Age'].dropna(), bins=20, label = 'survived', ax=axes[1], kde=False, color='#2081f9')\n",
    "ax = sns.histplot(female_deceased['Age'].dropna(), bins=40, label = 'deceased', ax=axes[1], kde=False, color='#f99820')\n",
    "ax.legend()\n",
    "ax.set_title('Female')"
   ]
  },
  {
   "cell_type": "markdown",
   "metadata": {},
   "source": [
    "### Embarked"
   ]
  },
  {
   "cell_type": "code",
   "execution_count": 131,
   "metadata": {},
   "outputs": [
    {
     "data": {
      "text/plain": [
       "<AxesSubplot:xlabel='Embarked', ylabel='count'>"
      ]
     },
     "execution_count": 131,
     "metadata": {},
     "output_type": "execute_result"
    },
    {
     "data": {
      "image/png": "[encoded data removed]",
      "text/plain": [
       "<Figure size 432x288 with 1 Axes>"
      ]
     },
     "metadata": {},
     "output_type": "display_data"
    }
   ],
   "source": [
    "sns.countplot(x='Embarked', data=df_train, palette='hls', hue='Survived')"
   ]
  },
  {
   "cell_type": "markdown",
   "metadata": {},
   "source": [
    "### SibSP and Parch "
   ]
  },
  {
   "cell_type": "code",
   "execution_count": 132,
   "metadata": {},
   "outputs": [
    {
     "data": {
      "image/png": "[encoded data removed]",
      "text/plain": [
       "<Figure size 720x360 with 1 Axes>"
      ]
     },
     "metadata": {},
     "output_type": "display_data"
    }
   ],
   "source": [
    "df_all['Relatives'] = df_all['SibSp'] + df_all['Parch'] + 1\n",
    "axes = sns.factorplot(x='Relatives', y='Survived', data=df_all[:len(df_train)], aspect = 2)"
   ]
  },
  {
   "cell_type": "markdown",
   "metadata": {},
   "source": [
    "### Fare"
   ]
  },
  {
   "cell_type": "code",
   "execution_count": 133,
   "metadata": {},
   "outputs": [],
   "source": [
    "df_all['Fare'].fillna(df_all['Fare'].median(), inplace=True)"
   ]
  },
  {
   "cell_type": "code",
   "execution_count": 134,
   "metadata": {},
   "outputs": [
    {
     "data": {
      "image/png": "[encoded data removed]",
      "text/plain": [
       "<Figure size 1296x504 with 1 Axes>"
      ]
     },
     "metadata": {},
     "output_type": "display_data"
    }
   ],
   "source": [
    "# Lof fare \n",
    "df_all['Log Fare'] = df_all['Fare'].map(lambda x: np.log10(x) if x > 0 else 0)\n",
    "\n",
    "fig, ax = plt.subplots(figsize=(18,7))\n",
    "sns.boxplot(y='Pclass', x='Log Fare', hue='Survived', data=df_all, orient='h',\n",
    "            ax=ax, palette='Set3')\n",
    "pd.pivot_table(df_all, values=['Log Fare'], index=['Pclass'], columns=['Survived'], aggfunc='median').round(3)\n",
    "df_all.drop(['Log Fare'], axis=1, inplace=True)"
   ]
  },
  {
   "cell_type": "markdown",
   "metadata": {},
   "source": [
    "# Data Processing"
   ]
  },
  {
   "cell_type": "markdown",
   "metadata": {},
   "source": [
    "### Connected_survival"
   ]
  },
  {
   "cell_type": "code",
   "execution_count": 136,
   "metadata": {
    "scrolled": true
   },
   "outputs": [
    {
     "data": {
      "text/html": [
       "<div>\n",
       "<style scoped>\n",
       "    .dataframe tbody tr th:only-of-type {\n",
       "        vertical-align: middle;\n",
       "    }\n",
       "\n",
       "    .dataframe tbody tr th {\n",
       "        vertical-align: top;\n",
       "    }\n",
       "\n",
       "    .dataframe thead th {\n",
       "        text-align: right;\n",
       "    }\n",
       "</style>\n",
       "<table border=\"1\" class=\"dataframe\">\n",
       "  <thead>\n",
       "    <tr style=\"text-align: right;\">\n",
       "      <th></th>\n",
       "      <th>PassengerId</th>\n",
       "      <th>Survived</th>\n",
       "      <th>Pclass</th>\n",
       "      <th>Name</th>\n",
       "      <th>Sex</th>\n",
       "      <th>Age</th>\n",
       "      <th>SibSp</th>\n",
       "      <th>Parch</th>\n",
       "      <th>Ticket</th>\n",
       "      <th>Fare</th>\n",
       "      <th>Cabin</th>\n",
       "      <th>Embarked</th>\n",
       "      <th>Relatives</th>\n",
       "    </tr>\n",
       "  </thead>\n",
       "  <tbody>\n",
       "    <tr>\n",
       "      <th>558</th>\n",
       "      <td>559</td>\n",
       "      <td>1.0</td>\n",
       "      <td>1</td>\n",
       "      <td>Taussig, Mrs. Emil (Tillie Mandelbaum)</td>\n",
       "      <td>female</td>\n",
       "      <td>39.0</td>\n",
       "      <td>1</td>\n",
       "      <td>1</td>\n",
       "      <td>110413</td>\n",
       "      <td>79.65</td>\n",
       "      <td>E67</td>\n",
       "      <td>S</td>\n",
       "      <td>3</td>\n",
       "    </tr>\n",
       "    <tr>\n",
       "      <th>262</th>\n",
       "      <td>263</td>\n",
       "      <td>0.0</td>\n",
       "      <td>1</td>\n",
       "      <td>Taussig, Mr. Emil</td>\n",
       "      <td>male</td>\n",
       "      <td>52.0</td>\n",
       "      <td>1</td>\n",
       "      <td>1</td>\n",
       "      <td>110413</td>\n",
       "      <td>79.65</td>\n",
       "      <td>E67</td>\n",
       "      <td>S</td>\n",
       "      <td>3</td>\n",
       "    </tr>\n",
       "    <tr>\n",
       "      <th>585</th>\n",
       "      <td>586</td>\n",
       "      <td>1.0</td>\n",
       "      <td>1</td>\n",
       "      <td>Taussig, Miss. Ruth</td>\n",
       "      <td>female</td>\n",
       "      <td>18.0</td>\n",
       "      <td>0</td>\n",
       "      <td>2</td>\n",
       "      <td>110413</td>\n",
       "      <td>79.65</td>\n",
       "      <td>E68</td>\n",
       "      <td>S</td>\n",
       "      <td>3</td>\n",
       "    </tr>\n",
       "    <tr>\n",
       "      <th>366</th>\n",
       "      <td>367</td>\n",
       "      <td>1.0</td>\n",
       "      <td>1</td>\n",
       "      <td>Warren, Mrs. Frank Manley (Anna Sophia Atkinson)</td>\n",
       "      <td>female</td>\n",
       "      <td>60.0</td>\n",
       "      <td>1</td>\n",
       "      <td>0</td>\n",
       "      <td>110813</td>\n",
       "      <td>75.25</td>\n",
       "      <td>D37</td>\n",
       "      <td>C</td>\n",
       "      <td>2</td>\n",
       "    </tr>\n",
       "  </tbody>\n",
       "</table>\n",
       "</div>"
      ],
      "text/plain": [
       "     PassengerId  Survived  Pclass  \\\n",
       "558          559       1.0       1   \n",
       "262          263       0.0       1   \n",
       "585          586       1.0       1   \n",
       "366          367       1.0       1   \n",
       "\n",
       "                                                 Name     Sex   Age  SibSp  \\\n",
       "558            Taussig, Mrs. Emil (Tillie Mandelbaum)  female  39.0      1   \n",
       "262                                 Taussig, Mr. Emil    male  52.0      1   \n",
       "585                               Taussig, Miss. Ruth  female  18.0      0   \n",
       "366  Warren, Mrs. Frank Manley (Anna Sophia Atkinson)  female  60.0      1   \n",
       "\n",
       "     Parch  Ticket   Fare Cabin Embarked  Relatives  \n",
       "558      1  110413  79.65   E67        S          3  \n",
       "262      1  110413  79.65   E67        S          3  \n",
       "585      2  110413  79.65   E68        S          3  \n",
       "366      0  110813  75.25   D37        C          2  "
      ]
     },
     "metadata": {},
     "output_type": "display_data"
    },
    {
     "data": {
      "text/html": [
       "<div>\n",
       "<style scoped>\n",
       "    .dataframe tbody tr th:only-of-type {\n",
       "        vertical-align: middle;\n",
       "    }\n",
       "\n",
       "    .dataframe tbody tr th {\n",
       "        vertical-align: top;\n",
       "    }\n",
       "\n",
       "    .dataframe thead th {\n",
       "        text-align: right;\n",
       "    }\n",
       "</style>\n",
       "<table border=\"1\" class=\"dataframe\">\n",
       "  <thead>\n",
       "    <tr style=\"text-align: right;\">\n",
       "      <th></th>\n",
       "      <th>PassengerId</th>\n",
       "      <th>Survived</th>\n",
       "      <th>Pclass</th>\n",
       "      <th>Name</th>\n",
       "      <th>Sex</th>\n",
       "      <th>Age</th>\n",
       "      <th>SibSp</th>\n",
       "      <th>Parch</th>\n",
       "      <th>Ticket</th>\n",
       "      <th>Fare</th>\n",
       "      <th>Cabin</th>\n",
       "      <th>Embarked</th>\n",
       "      <th>Relatives</th>\n",
       "    </tr>\n",
       "  </thead>\n",
       "  <tbody>\n",
       "    <tr>\n",
       "      <th>257</th>\n",
       "      <td>258</td>\n",
       "      <td>1.0</td>\n",
       "      <td>1</td>\n",
       "      <td>Cherry, Miss. Gladys</td>\n",
       "      <td>female</td>\n",
       "      <td>30.0</td>\n",
       "      <td>0</td>\n",
       "      <td>0</td>\n",
       "      <td>110152</td>\n",
       "      <td>86.5</td>\n",
       "      <td>B77</td>\n",
       "      <td>S</td>\n",
       "      <td>1</td>\n",
       "    </tr>\n",
       "    <tr>\n",
       "      <th>504</th>\n",
       "      <td>505</td>\n",
       "      <td>1.0</td>\n",
       "      <td>1</td>\n",
       "      <td>Maioni, Miss. Roberta</td>\n",
       "      <td>female</td>\n",
       "      <td>16.0</td>\n",
       "      <td>0</td>\n",
       "      <td>0</td>\n",
       "      <td>110152</td>\n",
       "      <td>86.5</td>\n",
       "      <td>B79</td>\n",
       "      <td>S</td>\n",
       "      <td>1</td>\n",
       "    </tr>\n",
       "    <tr>\n",
       "      <th>759</th>\n",
       "      <td>760</td>\n",
       "      <td>1.0</td>\n",
       "      <td>1</td>\n",
       "      <td>Rothes, the Countess. of (Lucy Noel Martha Dye...</td>\n",
       "      <td>female</td>\n",
       "      <td>33.0</td>\n",
       "      <td>0</td>\n",
       "      <td>0</td>\n",
       "      <td>110152</td>\n",
       "      <td>86.5</td>\n",
       "      <td>B77</td>\n",
       "      <td>S</td>\n",
       "      <td>1</td>\n",
       "    </tr>\n",
       "    <tr>\n",
       "      <th>475</th>\n",
       "      <td>476</td>\n",
       "      <td>0.0</td>\n",
       "      <td>1</td>\n",
       "      <td>Clifford, Mr. George Quincy</td>\n",
       "      <td>male</td>\n",
       "      <td>NaN</td>\n",
       "      <td>0</td>\n",
       "      <td>0</td>\n",
       "      <td>110465</td>\n",
       "      <td>52.0</td>\n",
       "      <td>A14</td>\n",
       "      <td>S</td>\n",
       "      <td>1</td>\n",
       "    </tr>\n",
       "  </tbody>\n",
       "</table>\n",
       "</div>"
      ],
      "text/plain": [
       "     PassengerId  Survived  Pclass  \\\n",
       "257          258       1.0       1   \n",
       "504          505       1.0       1   \n",
       "759          760       1.0       1   \n",
       "475          476       0.0       1   \n",
       "\n",
       "                                                  Name     Sex   Age  SibSp  \\\n",
       "257                               Cherry, Miss. Gladys  female  30.0      0   \n",
       "504                              Maioni, Miss. Roberta  female  16.0      0   \n",
       "759  Rothes, the Countess. of (Lucy Noel Martha Dye...  female  33.0      0   \n",
       "475                        Clifford, Mr. George Quincy    male   NaN      0   \n",
       "\n",
       "     Parch  Ticket  Fare Cabin Embarked  Relatives  \n",
       "257      0  110152  86.5   B77        S          1  \n",
       "504      0  110152  86.5   B79        S          1  \n",
       "759      0  110152  86.5   B77        S          1  \n",
       "475      0  110465  52.0   A14        S          1  "
      ]
     },
     "metadata": {},
     "output_type": "display_data"
    }
   ],
   "source": [
    "# Find passengers that held the same ticket\n",
    "df_tk_dup = df_all[df_all.duplicated(subset=['Ticket'], keep=False)]\n",
    "df_tk_dup.sort_values(['Ticket'], inplace=True)\n",
    "\n",
    "# family or frieds\n",
    "df_fam = df_tk_dup[(df_tk_dup['Relatives']>1) & (df_tk_dup['Survived'].notnull())].head(4)\n",
    "df_fri = df_tk_dup[(df_tk_dup['Relatives']==1) & (df_tk_dup['Survived'].notnull())].head(4)\n",
    "display(df_fam, df_fri)"
   ]
  },
  {
   "cell_type": "code",
   "execution_count": 95,
   "metadata": {
    "scrolled": true
   },
   "outputs": [
    {
     "data": {
      "text/html": [
       "<div>\n",
       "<style scoped>\n",
       "    .dataframe tbody tr th:only-of-type {\n",
       "        vertical-align: middle;\n",
       "    }\n",
       "\n",
       "    .dataframe tbody tr th {\n",
       "        vertical-align: top;\n",
       "    }\n",
       "\n",
       "    .dataframe thead th {\n",
       "        text-align: right;\n",
       "    }\n",
       "</style>\n",
       "<table border=\"1\" class=\"dataframe\">\n",
       "  <thead>\n",
       "    <tr style=\"text-align: right;\">\n",
       "      <th></th>\n",
       "      <th>Survived</th>\n",
       "    </tr>\n",
       "    <tr>\n",
       "      <th>Connected_Survival</th>\n",
       "      <th></th>\n",
       "    </tr>\n",
       "  </thead>\n",
       "  <tbody>\n",
       "    <tr>\n",
       "      <th>0.0</th>\n",
       "      <td>0.225</td>\n",
       "    </tr>\n",
       "    <tr>\n",
       "      <th>0.5</th>\n",
       "      <td>0.298</td>\n",
       "    </tr>\n",
       "    <tr>\n",
       "      <th>1.0</th>\n",
       "      <td>0.728</td>\n",
       "    </tr>\n",
       "  </tbody>\n",
       "</table>\n",
       "</div>"
      ],
      "text/plain": [
       "                    Survived\n",
       "Connected_Survival          \n",
       "0.0                    0.225\n",
       "0.5                    0.298\n",
       "1.0                    0.728"
      ]
     },
     "execution_count": 95,
     "metadata": {},
     "output_type": "execute_result"
    }
   ],
   "source": [
    "df_all['Connected_Survival'] = 0.5   # default\n",
    "\n",
    "for tk, df_grp in df_all.groupby('Ticket'):\n",
    "    if len(df_grp) > 1:\n",
    "        for idx, row in df_grp.iterrows():\n",
    "            gmax = df_grp.drop(idx)['Survived'].max()\n",
    "            gmin = df_grp.drop(idx)['Survived'].min()\n",
    "            ID = row['PassengerId']\n",
    "            if gmax == 1.0:\n",
    "                df_all.loc[df_all['PassengerId'] == ID, 'Connected_Survival'] = 1\n",
    "            elif gmin == 0.0:\n",
    "                df_all.loc[df_all['PassengerId'] == ID, 'Connected_Survival'] = 0\n",
    "\n",
    "df_all.drop(['PassengerId', 'Ticket'], axis=1, inplace=True)\n",
    "df_all.groupby('Connected_Survival')[['Survived']].mean().round(3)"
   ]
  },
  {
   "cell_type": "markdown",
   "metadata": {},
   "source": [
    "### Deck"
   ]
  },
  {
   "cell_type": "code",
   "execution_count": 96,
   "metadata": {},
   "outputs": [
    {
     "data": {
      "text/plain": [
       "['A', 'B', 'C', 'D', 'E', 'F', 'G', 'T', 'U']"
      ]
     },
     "execution_count": 96,
     "metadata": {},
     "output_type": "execute_result"
    }
   ],
   "source": [
    "df_all['Cabin'].fillna('U', inplace=True)\n",
    "sorted(df_all['Cabin'].str[0].unique())"
   ]
  },
  {
   "cell_type": "code",
   "execution_count": 98,
   "metadata": {},
   "outputs": [],
   "source": [
    "df_all.loc[df_all['Cabin'].str[0] == 'T', 'Cabin'] = 'U'"
   ]
  },
  {
   "cell_type": "code",
   "execution_count": 99,
   "metadata": {},
   "outputs": [],
   "source": [
    "df_all['Deck'] = df_all['Cabin'].map(lambda x: str(x)[0]) # we only need the letter\n",
    "\n",
    "df_all['Deck'] = df_all['Deck'].map({'A': 1, 'B': 2, 'C': 3, 'D': 4, 'E': 5, 'F': 6, 'G': 7, 'U': 8})\n",
    "df_all['Deck'] = df_all['Deck'].astype(int)\n",
    "\n",
    "df_all.drop(['Cabin'], axis=1, inplace=True)"
   ]
  },
  {
   "cell_type": "markdown",
   "metadata": {},
   "source": [
    "### Title"
   ]
  },
  {
   "cell_type": "code",
   "execution_count": 100,
   "metadata": {},
   "outputs": [],
   "source": [
    "df_all['Title'] = df_all['Name'].str.extract('([A-Za-z]+)\\.', expand=False)\n",
    "df_all['Title'] = df_all['Title'].replace(['Don', 'Rev', 'Dr',\n",
    "                                           'Major', 'Lady', 'Sir', \n",
    "                                           'Col', 'Capt', 'Countess',\n",
    "                                           'Jonkheer', 'Dona'], 'Rare')\n",
    "df_all['Title'] = df_all['Title'].replace(['Mme', 'Ms', 'Mlle'], 'Miss')\n",
    "df_all.drop(['Name'], axis=1, inplace=True)"
   ]
  },
  {
   "cell_type": "code",
   "execution_count": 101,
   "metadata": {
    "scrolled": true
   },
   "outputs": [
    {
     "data": {
      "text/plain": [
       "\"\\n# expand=True: return dataframe\\ndf_all['Name'].str.extract('([A-Za-z]+)\\\\.', expand=False).unique()\\n\""
      ]
     },
     "execution_count": 101,
     "metadata": {},
     "output_type": "execute_result"
    }
   ],
   "source": [
    "# expand=True: return dataframe\n",
    "#df_all['Name'].str.extract('([A-Za-z]+)\\.', expand=False).unique()"
   ]
  },
  {
   "cell_type": "markdown",
   "metadata": {},
   "source": [
    "### Age"
   ]
  },
  {
   "cell_type": "code",
   "execution_count": 102,
   "metadata": {},
   "outputs": [
    {
     "data": {
      "text/html": [
       "<div>\n",
       "<style scoped>\n",
       "    .dataframe tbody tr th:only-of-type {\n",
       "        vertical-align: middle;\n",
       "    }\n",
       "\n",
       "    .dataframe tbody tr th {\n",
       "        vertical-align: top;\n",
       "    }\n",
       "\n",
       "    .dataframe thead th {\n",
       "        text-align: right;\n",
       "    }\n",
       "</style>\n",
       "<table border=\"1\" class=\"dataframe\">\n",
       "  <thead>\n",
       "    <tr style=\"text-align: right;\">\n",
       "      <th></th>\n",
       "      <th>mean</th>\n",
       "      <th>median</th>\n",
       "    </tr>\n",
       "    <tr>\n",
       "      <th>Title</th>\n",
       "      <th></th>\n",
       "      <th></th>\n",
       "    </tr>\n",
       "  </thead>\n",
       "  <tbody>\n",
       "    <tr>\n",
       "      <th>Master</th>\n",
       "      <td>5.5</td>\n",
       "      <td>4.0</td>\n",
       "    </tr>\n",
       "    <tr>\n",
       "      <th>Miss</th>\n",
       "      <td>21.8</td>\n",
       "      <td>22.0</td>\n",
       "    </tr>\n",
       "    <tr>\n",
       "      <th>Mr</th>\n",
       "      <td>32.3</td>\n",
       "      <td>29.0</td>\n",
       "    </tr>\n",
       "    <tr>\n",
       "      <th>Mrs</th>\n",
       "      <td>37.0</td>\n",
       "      <td>35.5</td>\n",
       "    </tr>\n",
       "    <tr>\n",
       "      <th>Rare</th>\n",
       "      <td>45.2</td>\n",
       "      <td>47.5</td>\n",
       "    </tr>\n",
       "  </tbody>\n",
       "</table>\n",
       "</div>"
      ],
      "text/plain": [
       "        mean  median\n",
       "Title               \n",
       "Master   5.5     4.0\n",
       "Miss    21.8    22.0\n",
       "Mr      32.3    29.0\n",
       "Mrs     37.0    35.5\n",
       "Rare    45.2    47.5"
      ]
     },
     "execution_count": 102,
     "metadata": {},
     "output_type": "execute_result"
    }
   ],
   "source": [
    "pd.concat([round(df_all.groupby('Title')['Age'].mean(), 1), \n",
    "           df_all.groupby('Title')['Age'].median()], \n",
    "           axis=1, keys=['mean', 'median'])"
   ]
  },
  {
   "cell_type": "code",
   "execution_count": 103,
   "metadata": {},
   "outputs": [],
   "source": [
    "for title in df_all.Title.unique():\n",
    "    df_title = df_all[df_all['Title']==title]\n",
    "    grp_mean = df_title['Age'].mean()\n",
    "    grp_std = df_title['Age'].std()\n",
    "    grp_isnull = df_title['Age'].isnull().sum()\n",
    "    \n",
    "    # compute random numbers between group mean and group standard deviation\n",
    "    np.random.seed(125)\n",
    "    grp_random_age = np.random.randint(grp_mean - grp_std, grp_mean + grp_std, size = grp_isnull)\n",
    "    df_all.loc[(df_all['Title']==title) & (df_all['Age'].isnull()), 'Age'] = grp_random_age\n",
    "    \n",
    "df_all['Age'] = df_all['Age'].astype('int')   "
   ]
  },
  {
   "cell_type": "markdown",
   "metadata": {},
   "source": [
    "### Embarked"
   ]
  },
  {
   "cell_type": "code",
   "execution_count": 104,
   "metadata": {},
   "outputs": [
    {
     "name": "stdout",
     "output_type": "stream",
     "text": [
      "count     1307\n",
      "unique       3\n",
      "top          S\n",
      "freq       914\n",
      "Name: Embarked, dtype: object\n"
     ]
    }
   ],
   "source": [
    "print(df_all['Embarked'].describe())"
   ]
  },
  {
   "cell_type": "code",
   "execution_count": 105,
   "metadata": {},
   "outputs": [],
   "source": [
    "df_all['Embarked'].fillna('S', inplace=True)"
   ]
  },
  {
   "cell_type": "markdown",
   "metadata": {},
   "source": [
    "# Converting Features"
   ]
  },
  {
   "cell_type": "code",
   "execution_count": null,
   "metadata": {},
   "outputs": [],
   "source": [
    "# Sex\n",
    "df_all['Sex'] = df_all['Sex'].map({'female':0, 'male':1}).astype('int')\n",
    "\n",
    "# Fare\n",
    "df_all['Fare'].fillna(df_all['Fare'].median(), inplace=True)\n",
    "df_all['Fare'] = df_all['Fare'].astype(int)\n",
    "\n",
    "# Title\n",
    "df_all['Title'] = df_all['Title'].map({\"Mr\": 1, \"Miss\": 2, \"Mrs\": 3, \"Master\": 4, \"Rare\": 5})\n",
    "\n",
    "# Embarked\n",
    "df_all['Embarked'] = df_all['Embarked'].map({'S': 0, 'C': 1, 'Q':2})"
   ]
  },
  {
   "cell_type": "markdown",
   "metadata": {},
   "source": [
    "# Creating Categories"
   ]
  },
  {
   "cell_type": "markdown",
   "metadata": {},
   "source": [
    "### Age times Class"
   ]
  },
  {
   "cell_type": "code",
   "execution_count": 110,
   "metadata": {},
   "outputs": [],
   "source": [
    "df_all['Age_class'] = df_all['Age']*df_all['Pclass']"
   ]
  },
  {
   "cell_type": "markdown",
   "metadata": {},
   "source": [
    "### Fare Group"
   ]
  },
  {
   "cell_type": "code",
   "execution_count": 111,
   "metadata": {
    "scrolled": true
   },
   "outputs": [
    {
     "name": "stdout",
     "output_type": "stream",
     "text": [
      "0    360\n",
      "3    262\n",
      "4    259\n",
      "2    257\n",
      "1    171\n",
      "Name: Fare_grp, dtype: int64\n"
     ]
    }
   ],
   "source": [
    "label = LabelEncoder()\n",
    "\n",
    "df_all['Fare_grp'] = pd.qcut(df_all['Fare'], 5)\n",
    "df_all['Fare_grp'] = label.fit_transform(df_all['Fare_grp'])\n",
    "print(df_all['Fare_grp'].value_counts()) "
   ]
  },
  {
   "cell_type": "markdown",
   "metadata": {},
   "source": [
    "# Spliting and Scaling"
   ]
  },
  {
   "cell_type": "code",
   "execution_count": 116,
   "metadata": {
    "scrolled": true
   },
   "outputs": [],
   "source": [
    "# convert dataframe to numpy array\n",
    "ary_train = df_all.values[:len(df_train)]\n",
    "ary_test = df_all.values[len(df_train):]\n",
    "\n",
    "X_train = ary_train[:,1:]\n",
    "y_train = ary_train[:,0]\n",
    "X_test = ary_test[:,1:]"
   ]
  },
  {
   "cell_type": "code",
   "execution_count": 117,
   "metadata": {
    "scrolled": true
   },
   "outputs": [],
   "source": [
    "# scaling\n",
    "minmax_scale = preprocessing.MinMaxScaler(feature_range=(0, 1))\n",
    "X_train_scaled = minmax_scale.fit_transform(X_train)\n",
    "X_test_scaled = minmax_scale.fit_transform(X_test)"
   ]
  },
  {
   "cell_type": "markdown",
   "metadata": {},
   "source": [
    "# MLP"
   ]
  },
  {
   "cell_type": "code",
   "execution_count": 38,
   "metadata": {},
   "outputs": [],
   "source": [
    "from keras.models import Sequential\n",
    "from keras.layers import Dense, Dropout"
   ]
  },
  {
   "cell_type": "code",
   "execution_count": 118,
   "metadata": {},
   "outputs": [
    {
     "name": "stdout",
     "output_type": "stream",
     "text": [
      "Model: \"sequential_3\"\n",
      "_________________________________________________________________\n",
      "Layer (type)                 Output Shape              Param #   \n",
      "=================================================================\n",
      "dense_9 (Dense)              (None, 40)                600       \n",
      "_________________________________________________________________\n",
      "dense_10 (Dense)             (None, 30)                1230      \n",
      "_________________________________________________________________\n",
      "dense_11 (Dense)             (None, 1)                 31        \n",
      "=================================================================\n",
      "Total params: 1,861\n",
      "Trainable params: 1,861\n",
      "Non-trainable params: 0\n",
      "_________________________________________________________________\n",
      "None\n"
     ]
    }
   ],
   "source": [
    "model = Sequential()\n",
    "\n",
    "model.add(Dense(input_dim=len(X_train[0]),\n",
    "                units=40,\n",
    "                kernel_initializer='uniform',\n",
    "                activation='relu'))\n",
    "\n",
    "model.add(Dense(units=30,\n",
    "                kernel_initializer='uniform',\n",
    "                activation='relu'))\n",
    "\n",
    "model.add(Dense(units=1,\n",
    "                kernel_initializer='uniform',\n",
    "                activation='sigmoid'))\n",
    "\n",
    "print(model.summary())"
   ]
  },
  {
   "cell_type": "code",
   "execution_count": 119,
   "metadata": {},
   "outputs": [],
   "source": [
    "model.compile(loss='binary_crossentropy',\n",
    "              optimizer='adam',\n",
    "              metrics=['accuracy'])"
   ]
  },
  {
   "cell_type": "code",
   "execution_count": 120,
   "metadata": {
    "scrolled": false
   },
   "outputs": [
    {
     "name": "stdout",
     "output_type": "stream",
     "text": [
      "Epoch 1/30\n",
      "27/27 - 0s - loss: 0.6888 - accuracy: 0.6130 - val_loss: 0.6807 - val_accuracy: 0.6222\n",
      "Epoch 2/30\n",
      "27/27 - 0s - loss: 0.6642 - accuracy: 0.6155 - val_loss: 0.6313 - val_accuracy: 0.6222\n",
      "Epoch 3/30\n",
      "27/27 - 0s - loss: 0.5980 - accuracy: 0.6654 - val_loss: 0.5334 - val_accuracy: 0.7778\n",
      "Epoch 4/30\n",
      "27/27 - 0s - loss: 0.5131 - accuracy: 0.7865 - val_loss: 0.4470 - val_accuracy: 0.8444\n",
      "Epoch 5/30\n",
      "27/27 - 0s - loss: 0.4487 - accuracy: 0.8340 - val_loss: 0.3936 - val_accuracy: 0.8444\n",
      "Epoch 6/30\n",
      "27/27 - 0s - loss: 0.4175 - accuracy: 0.8377 - val_loss: 0.3721 - val_accuracy: 0.8111\n",
      "Epoch 7/30\n",
      "27/27 - 0s - loss: 0.4075 - accuracy: 0.8352 - val_loss: 0.3637 - val_accuracy: 0.8222\n",
      "Epoch 8/30\n",
      "27/27 - 0s - loss: 0.3997 - accuracy: 0.8365 - val_loss: 0.3620 - val_accuracy: 0.8222\n",
      "Epoch 9/30\n",
      "27/27 - 0s - loss: 0.3964 - accuracy: 0.8414 - val_loss: 0.3623 - val_accuracy: 0.8222\n",
      "Epoch 10/30\n",
      "27/27 - 0s - loss: 0.3932 - accuracy: 0.8402 - val_loss: 0.3606 - val_accuracy: 0.8333\n",
      "Epoch 11/30\n",
      "27/27 - 0s - loss: 0.3930 - accuracy: 0.8377 - val_loss: 0.3564 - val_accuracy: 0.8222\n",
      "Epoch 12/30\n",
      "27/27 - 0s - loss: 0.3944 - accuracy: 0.8402 - val_loss: 0.3602 - val_accuracy: 0.8222\n",
      "Epoch 13/30\n",
      "27/27 - 0s - loss: 0.3902 - accuracy: 0.8502 - val_loss: 0.3605 - val_accuracy: 0.8222\n",
      "Epoch 14/30\n",
      "27/27 - 0s - loss: 0.3898 - accuracy: 0.8340 - val_loss: 0.3588 - val_accuracy: 0.8333\n",
      "Epoch 15/30\n",
      "27/27 - 0s - loss: 0.3914 - accuracy: 0.8390 - val_loss: 0.3596 - val_accuracy: 0.8222\n",
      "Epoch 16/30\n",
      "27/27 - 0s - loss: 0.3905 - accuracy: 0.8427 - val_loss: 0.3592 - val_accuracy: 0.8222\n",
      "Epoch 17/30\n",
      "27/27 - 0s - loss: 0.3916 - accuracy: 0.8390 - val_loss: 0.3599 - val_accuracy: 0.8222\n",
      "Epoch 18/30\n",
      "27/27 - 0s - loss: 0.3923 - accuracy: 0.8452 - val_loss: 0.3610 - val_accuracy: 0.8222\n",
      "Epoch 19/30\n",
      "27/27 - 0s - loss: 0.3869 - accuracy: 0.8377 - val_loss: 0.3616 - val_accuracy: 0.8444\n",
      "Epoch 20/30\n",
      "27/27 - 0s - loss: 0.3907 - accuracy: 0.8477 - val_loss: 0.3620 - val_accuracy: 0.8222\n",
      "Epoch 21/30\n",
      "27/27 - 0s - loss: 0.3894 - accuracy: 0.8340 - val_loss: 0.3601 - val_accuracy: 0.8333\n",
      "Epoch 22/30\n",
      "27/27 - 0s - loss: 0.3857 - accuracy: 0.8365 - val_loss: 0.3583 - val_accuracy: 0.8333\n",
      "Epoch 23/30\n",
      "27/27 - 0s - loss: 0.3886 - accuracy: 0.8365 - val_loss: 0.3587 - val_accuracy: 0.8222\n",
      "Epoch 24/30\n",
      "27/27 - 0s - loss: 0.3863 - accuracy: 0.8377 - val_loss: 0.3590 - val_accuracy: 0.8222\n",
      "Epoch 25/30\n",
      "27/27 - 0s - loss: 0.3850 - accuracy: 0.8365 - val_loss: 0.3579 - val_accuracy: 0.8556\n",
      "Epoch 26/30\n",
      "27/27 - 0s - loss: 0.3864 - accuracy: 0.8390 - val_loss: 0.3568 - val_accuracy: 0.8444\n",
      "Epoch 27/30\n",
      "27/27 - 0s - loss: 0.3841 - accuracy: 0.8402 - val_loss: 0.3581 - val_accuracy: 0.8222\n",
      "Epoch 28/30\n",
      "27/27 - 0s - loss: 0.3868 - accuracy: 0.8402 - val_loss: 0.3577 - val_accuracy: 0.8556\n",
      "Epoch 29/30\n",
      "27/27 - 0s - loss: 0.3842 - accuracy: 0.8402 - val_loss: 0.3552 - val_accuracy: 0.8556\n",
      "Epoch 30/30\n",
      "27/27 - 0s - loss: 0.3840 - accuracy: 0.8377 - val_loss: 0.3554 - val_accuracy: 0.8333\n"
     ]
    }
   ],
   "source": [
    "train_history = model.fit(x=X_train_scaled,\n",
    "                          y=y_train,\n",
    "                          validation_split=0.1,\n",
    "                          epochs=30,\n",
    "                          batch_size=30,\n",
    "                          verbose=2)"
   ]
  },
  {
   "cell_type": "code",
   "execution_count": 245,
   "metadata": {},
   "outputs": [],
   "source": [
    "import matplotlib.pyplot as plt\n",
    "%matplotlib inline\n",
    "\n",
    "def show_train_history(train_history, train, validation):\n",
    "    plt.plot(train_history.history[train])\n",
    "    plt.plot(train_history.history[validation])\n",
    "    plt.title('Train History')\n",
    "    plt.ylabel(train)\n",
    "    plt.xlabel('Epoch')\n",
    "    plt.legend(['train', 'validation'], loc='upper left')\n",
    "    plt.show"
   ]
  },
  {
   "cell_type": "code",
   "execution_count": 246,
   "metadata": {
    "scrolled": true
   },
   "outputs": [
    {
     "data": {
      "image/png": "[encoded data removed]",
      "text/plain": [
       "<Figure size 432x288 with 1 Axes>"
      ]
     },
     "metadata": {
      "needs_background": "light"
     },
     "output_type": "display_data"
    }
   ],
   "source": [
    "show_train_history(train_history, 'accuracy', 'val_accuracy')"
   ]
  },
  {
   "cell_type": "code",
   "execution_count": 247,
   "metadata": {
    "scrolled": true
   },
   "outputs": [
    {
     "data": {
      "image/png": "[encoded data removed]",
      "text/plain": [
       "<Figure size 432x288 with 1 Axes>"
      ]
     },
     "metadata": {
      "needs_background": "light"
     },
     "output_type": "display_data"
    }
   ],
   "source": [
    "show_train_history(train_history, 'loss', 'val_loss')"
   ]
  },
  {
   "cell_type": "code",
   "execution_count": 121,
   "metadata": {
    "scrolled": true
   },
   "outputs": [],
   "source": [
    "df_test['Survived'] = model.predict(X_test_scaled)\n",
    "df_test['Survived'] = df_test['Survived'].apply(lambda x: round(x,0)).astype('int')\n",
    "solution = df_test[['PassengerId', 'Survived']]\n",
    "solution.to_csv(\"Titanic_Neural_Network_Solution.csv\", index=False)"
   ]
  }
 ],
 "metadata": {
  "kernelspec": {
   "display_name": "Python 3",
   "language": "python",
   "name": "python3"
  },
  "language_info": {
   "codemirror_mode": {
    "name": "ipython",
    "version": 3
   },
   "file_extension": ".py",
   "mimetype": "text/x-python",
   "name": "python",
   "nbconvert_exporter": "python",
   "pygments_lexer": "ipython3",
   "version": "3.8.5"
  }
 },
 "nbformat": 4,
 "nbformat_minor": 4
}
